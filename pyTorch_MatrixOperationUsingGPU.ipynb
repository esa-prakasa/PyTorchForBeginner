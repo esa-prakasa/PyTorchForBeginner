{
  "nbformat": 4,
  "nbformat_minor": 0,
  "metadata": {
    "colab": {
      "name": "pyTorch_MatrixOperationUsingGPU.ipynb",
      "provenance": [],
      "include_colab_link": true
    },
    "kernelspec": {
      "name": "python3",
      "display_name": "Python 3"
    },
    "accelerator": "GPU"
  },
  "cells": [
    {
      "cell_type": "markdown",
      "metadata": {
        "id": "view-in-github",
        "colab_type": "text"
      },
      "source": [
        "<a href=\"https://colab.research.google.com/github/esa-prakasa/PyTorchForBeginner/blob/master/pyTorch_MatrixOperationUsingGPU.ipynb\" target=\"_parent\"><img src=\"https://colab.research.google.com/assets/colab-badge.svg\" alt=\"Open In Colab\"/></a>"
      ]
    },
    {
      "cell_type": "markdown",
      "metadata": {
        "id": "GWAtAeLSWQnt",
        "colab_type": "text"
      },
      "source": [
        "Create two array of data (x and y). The y arry is obtained from equation y=2x+1.\n",
        "\n",
        "*Kode digunakan untuk membuat dua matriks x dan y. Matriks y diperoleh dengan menggunakan persamaan y=2x+1*"
      ]
    },
    {
      "cell_type": "code",
      "metadata": {
        "id": "cjJK__NTUhgP",
        "colab_type": "code",
        "colab": {
          "base_uri": "https://localhost:8080/",
          "height": 121
        },
        "outputId": "5bde9dbc-7c93-4966-99a6-3f674e6057d2"
      },
      "source": [
        "import torch\n",
        "x = 10*torch.rand(20)\n",
        "y = 2*x + 1\n",
        "print(x)\n",
        "print(y)"
      ],
      "execution_count": 9,
      "outputs": [
        {
          "output_type": "stream",
          "text": [
            "tensor([2.5511, 3.6788, 6.4509, 0.2797, 2.3836, 2.4070, 0.0250, 1.9105, 6.6110,\n",
            "        8.1948, 8.5987, 9.8416, 2.6046, 9.1500, 3.7221, 1.8485, 3.0257, 3.5366,\n",
            "        2.8014, 3.5286])\n",
            "tensor([ 6.1023,  8.3576, 13.9018,  1.5593,  5.7671,  5.8139,  1.0499,  4.8210,\n",
            "        14.2220, 17.3896, 18.1975, 20.6833,  6.2091, 19.2999,  8.4443,  4.6970,\n",
            "         7.0515,  8.0731,  6.6029,  8.0571])\n"
          ],
          "name": "stdout"
        }
      ]
    },
    {
      "cell_type": "markdown",
      "metadata": {
        "id": "cCDSLH-wYbwh",
        "colab_type": "text"
      },
      "source": [
        "Create two matrices a and b. Both matrices, c and d are obtained by adding a to b. But, two different methods used in additional operation.\n",
        "\n",
        "*Matriks a dan b dibuat dengan menggunakan pembangkit bilangan random. Matriks c dan d adalah hasil jumlahan antara matriks a dan b, namun menggunakan cara yang berbeda. Cara pertama dengan penjumlahan biasa, cara kedua dengan menggunakan fungsi add() pada PyTorch.*"
      ]
    },
    {
      "cell_type": "code",
      "metadata": {
        "id": "nXt3a4gCXgUZ",
        "colab_type": "code",
        "colab": {
          "base_uri": "https://localhost:8080/",
          "height": 87
        },
        "outputId": "c37a15cd-ddd8-4a5e-c51d-671601a4e1fc"
      },
      "source": [
        "a = torch.rand(2,2)\n",
        "b = torch.rand(2,2)\n",
        "c = a+b\n",
        "d = torch.add(a,b)\n",
        "\n",
        "print(c)\n",
        "print(d)"
      ],
      "execution_count": 13,
      "outputs": [
        {
          "output_type": "stream",
          "text": [
            "tensor([[1.4288, 1.4615],\n",
            "        [0.7371, 0.9043]])\n",
            "tensor([[1.4288, 1.4615],\n",
            "        [0.7371, 0.9043]])\n"
          ],
          "name": "stdout"
        }
      ]
    },
    {
      "cell_type": "markdown",
      "metadata": {
        "id": "A5ViUye1doEh",
        "colab_type": "text"
      },
      "source": [
        "This is part is comparison between using non-GPU and GPU. Implementation of code using GPU can speed up computation time up to 15x faster!\n",
        "\n",
        "Bagian ini menunjukkan perbandingan antara penggunaan non-GPU dan GPU. Implementasi kode program dengan menggunakan GPU dapat mempercepat komputasi hingga 15x lebih cepat."
      ]
    },
    {
      "cell_type": "code",
      "metadata": {
        "id": "84l90iaYaL81",
        "colab_type": "code",
        "colab": {
          "base_uri": "https://localhost:8080/",
          "height": 35
        },
        "outputId": "9e8c68a0-71c8-4c7f-87ef-7e3cc7cf91d7"
      },
      "source": [
        "import torch\n",
        "start = torch.cuda.Event(enable_timing=True)\n",
        "end = torch.cuda.Event(enable_timing=True)\n",
        "\n",
        "start.record()\n",
        "N = 10000\n",
        "a = torch.rand(N,N)\n",
        "b = torch.rand(N,N)\n",
        "e = a.matmul(b)\n",
        "end.record()\n",
        "\n",
        "torch.cuda.synchronize()\n",
        "\n",
        "compTime = start.elapsed_time(end)\n",
        "compTime = compTime/1000 \n",
        "print(\"Computation Time is \"+str(compTime)+\" second\")\n",
        "## Computation Time is 29.04316015625 second"
      ],
      "execution_count": 9,
      "outputs": [
        {
          "output_type": "stream",
          "text": [
            "Computation Time is 29.04316015625 second\n"
          ],
          "name": "stdout"
        }
      ]
    },
    {
      "cell_type": "code",
      "metadata": {
        "id": "ChiJyAlRcDMY",
        "colab_type": "code",
        "colab": {
          "base_uri": "https://localhost:8080/",
          "height": 35
        },
        "outputId": "81b054d3-bdba-4b08-da19-96a76d9c5ee1"
      },
      "source": [
        "import torch\n",
        "start = torch.cuda.Event(enable_timing=True)\n",
        "end = torch.cuda.Event(enable_timing=True)\n",
        "\n",
        "start.record()\n",
        "N = 10000\n",
        "a = torch.rand(N,N)\n",
        "b = torch.rand(N,N)\n",
        "a = a.cuda()\n",
        "b = b.cuda()\n",
        "e = a.matmul(b)\n",
        "end.record()\n",
        "\n",
        "torch.cuda.synchronize()\n",
        "\n",
        "compTime = start.elapsed_time(end)\n",
        "compTime = compTime/1000 \n",
        "print(\"Computation Time is \"+str(compTime)+\" second\")\n",
        "## Computation Time is 2.57491943359375 second"
      ],
      "execution_count": 11,
      "outputs": [
        {
          "output_type": "stream",
          "text": [
            "Computation Time is 2.51195166015625 second\n"
          ],
          "name": "stdout"
        }
      ]
    }
  ]
}