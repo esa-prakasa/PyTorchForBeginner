{
  "nbformat": 4,
  "nbformat_minor": 0,
  "metadata": {
    "colab": {
      "name": "torch_dataType.ipynb",
      "provenance": [],
      "authorship_tag": "ABX9TyNEmaZ1jaEJYp/hyuSDCM2v",
      "include_colab_link": true
    },
    "kernelspec": {
      "name": "python3",
      "display_name": "Python 3"
    }
  },
  "cells": [
    {
      "cell_type": "markdown",
      "metadata": {
        "id": "view-in-github",
        "colab_type": "text"
      },
      "source": [
        "<a href=\"https://colab.research.google.com/github/esa-prakasa/PyTorchForBeginner/blob/master/torch_dataType.ipynb\" target=\"_parent\"><img src=\"https://colab.research.google.com/assets/colab-badge.svg\" alt=\"Open In Colab\"/></a>"
      ]
    },
    {
      "cell_type": "markdown",
      "metadata": {
        "id": "m_WnQwXPC1a_",
        "colab_type": "text"
      },
      "source": [
        "Scalar (0-D tensors)"
      ]
    },
    {
      "cell_type": "code",
      "metadata": {
        "id": "aykW4VVHCezX",
        "colab_type": "code",
        "colab": {
          "base_uri": "https://localhost:8080/",
          "height": 52
        },
        "outputId": "f6d90781-81a4-4949-e760-6dec7ff5a208"
      },
      "source": [
        "import torch\n",
        "x = torch.rand(10)\n",
        "print(x[0:5])\n",
        "x.size()"
      ],
      "execution_count": 3,
      "outputs": [
        {
          "output_type": "stream",
          "text": [
            "tensor([0.7642, 0.7528, 0.1975, 0.8897, 0.1903])\n"
          ],
          "name": "stdout"
        },
        {
          "output_type": "execute_result",
          "data": {
            "text/plain": [
              "torch.Size([10])"
            ]
          },
          "metadata": {
            "tags": []
          },
          "execution_count": 3
        }
      ]
    },
    {
      "cell_type": "markdown",
      "metadata": {
        "id": "o-sNAdnfDQ10",
        "colab_type": "text"
      },
      "source": [
        "Scalar (1-D tensors)"
      ]
    },
    {
      "cell_type": "code",
      "metadata": {
        "id": "uWVf3hD0DUbS",
        "colab_type": "code",
        "colab": {
          "base_uri": "https://localhost:8080/",
          "height": 35
        },
        "outputId": "3f5f7f72-71e8-47ba-977b-a06f6e507a7d"
      },
      "source": [
        "temp = torch.FloatTensor([23, 34, 33, 28.7, 25, 31.2])\n",
        "temp.size()"
      ],
      "execution_count": 5,
      "outputs": [
        {
          "output_type": "execute_result",
          "data": {
            "text/plain": [
              "torch.Size([6])"
            ]
          },
          "metadata": {
            "tags": []
          },
          "execution_count": 5
        }
      ]
    },
    {
      "cell_type": "markdown",
      "metadata": {
        "id": "QxslTWACEHue",
        "colab_type": "text"
      },
      "source": [
        "Matrix (2-D tensors)"
      ]
    },
    {
      "cell_type": "code",
      "metadata": {
        "id": "bS1Nm6u1EL81",
        "colab_type": "code",
        "colab": {}
      },
      "source": [
        ""
      ],
      "execution_count": 0,
      "outputs": []
    }
  ]
}