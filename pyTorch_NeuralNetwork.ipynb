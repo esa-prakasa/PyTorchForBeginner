{
  "nbformat": 4,
  "nbformat_minor": 0,
  "metadata": {
    "colab": {
      "name": "pyTorch_NeuralNetwork.ipynb",
      "provenance": [],
      "include_colab_link": true
    },
    "kernelspec": {
      "name": "python3",
      "display_name": "Python 3"
    }
  },
  "cells": [
    {
      "cell_type": "markdown",
      "metadata": {
        "id": "view-in-github",
        "colab_type": "text"
      },
      "source": [
        "<a href=\"https://colab.research.google.com/github/esa-prakasa/PyTorchForBeginner/blob/master/pyTorch_NeuralNetwork.ipynb\" target=\"_parent\"><img src=\"https://colab.research.google.com/assets/colab-badge.svg\" alt=\"Open In Colab\"/></a>"
      ]
    },
    {
      "cell_type": "markdown",
      "metadata": {
        "id": "GWAtAeLSWQnt",
        "colab_type": "text"
      },
      "source": [
        "Create two array of data (x and y). The y arry is obtained from equation y=2x+1."
      ]
    },
    {
      "cell_type": "code",
      "metadata": {
        "id": "cjJK__NTUhgP",
        "colab_type": "code",
        "colab": {
          "base_uri": "https://localhost:8080/",
          "height": 121
        },
        "outputId": "5bde9dbc-7c93-4966-99a6-3f674e6057d2"
      },
      "source": [
        "import torch\n",
        "x = 10*torch.rand(20)\n",
        "y = 2*x + 1\n",
        "print(x)\n",
        "print(y)"
      ],
      "execution_count": 9,
      "outputs": [
        {
          "output_type": "stream",
          "text": [
            "tensor([2.5511, 3.6788, 6.4509, 0.2797, 2.3836, 2.4070, 0.0250, 1.9105, 6.6110,\n",
            "        8.1948, 8.5987, 9.8416, 2.6046, 9.1500, 3.7221, 1.8485, 3.0257, 3.5366,\n",
            "        2.8014, 3.5286])\n",
            "tensor([ 6.1023,  8.3576, 13.9018,  1.5593,  5.7671,  5.8139,  1.0499,  4.8210,\n",
            "        14.2220, 17.3896, 18.1975, 20.6833,  6.2091, 19.2999,  8.4443,  4.6970,\n",
            "         7.0515,  8.0731,  6.6029,  8.0571])\n"
          ],
          "name": "stdout"
        }
      ]
    },
    {
      "cell_type": "markdown",
      "metadata": {
        "id": "cCDSLH-wYbwh",
        "colab_type": "text"
      },
      "source": [
        "Create two matrices a and b. Both matrices, c and d are obtained by adding a to b. But, two different methods used in additional operation."
      ]
    },
    {
      "cell_type": "code",
      "metadata": {
        "id": "nXt3a4gCXgUZ",
        "colab_type": "code",
        "colab": {
          "base_uri": "https://localhost:8080/",
          "height": 87
        },
        "outputId": "c37a15cd-ddd8-4a5e-c51d-671601a4e1fc"
      },
      "source": [
        "a = torch.rand(2,2)\n",
        "b = torch.rand(2,2)\n",
        "c = a+b\n",
        "d = torch.add(a,b)\n",
        "\n",
        "print(c)\n",
        "print(d)"
      ],
      "execution_count": 13,
      "outputs": [
        {
          "output_type": "stream",
          "text": [
            "tensor([[1.4288, 1.4615],\n",
            "        [0.7371, 0.9043]])\n",
            "tensor([[1.4288, 1.4615],\n",
            "        [0.7371, 0.9043]])\n"
          ],
          "name": "stdout"
        }
      ]
    }
  ]
}