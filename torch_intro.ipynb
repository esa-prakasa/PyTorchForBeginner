{
  "nbformat": 4,
  "nbformat_minor": 0,
  "metadata": {
    "colab": {
      "name": "torch_intro.ipynb",
      "provenance": [],
      "authorship_tag": "ABX9TyO6oarq/silY1V1n5nV1fKk",
      "include_colab_link": true
    },
    "kernelspec": {
      "name": "python3",
      "display_name": "Python 3"
    }
  },
  "cells": [
    {
      "cell_type": "markdown",
      "metadata": {
        "id": "view-in-github",
        "colab_type": "text"
      },
      "source": [
        "<a href=\"https://colab.research.google.com/github/esa-prakasa/PyTorchForBeginner/blob/master/torch_intro.ipynb\" target=\"_parent\"><img src=\"https://colab.research.google.com/assets/colab-badge.svg\" alt=\"Open In Colab\"/></a>"
      ]
    },
    {
      "cell_type": "code",
      "metadata": {
        "id": "PLOxbadHsJMQ",
        "colab_type": "code",
        "colab": {
          "base_uri": "https://localhost:8080/",
          "height": 191
        },
        "outputId": "96039d65-1f83-458a-f334-3b77d80a3928"
      },
      "source": [
        "import torch\n",
        "a = torch.tensor(3)\n",
        "print(\"A scalar value: \")\n",
        "print(a)\n",
        "\n",
        "print(\"An array: \")\n",
        "b = torch.tensor([1, 2])\n",
        "print(b)\n",
        "\n",
        "print(\"A matrix: \")\n",
        "c = torch.zeros([2, 2])\n",
        "print(c)\n",
        "\n",
        "print(\"A random matrix\")\n",
        "d = torch.rand([2, 2])\n",
        "print(d)"
      ],
      "execution_count": 14,
      "outputs": [
        {
          "output_type": "stream",
          "text": [
            "A scalar value: \n",
            "tensor(3)\n",
            "An array: \n",
            "tensor([1, 2])\n",
            "A matrix: \n",
            "tensor([[0., 0.],\n",
            "        [0., 0.]])\n",
            "A random matrix\n",
            "tensor([[0.4290, 0.9535],\n",
            "        [0.5621, 0.1437]])\n"
          ],
          "name": "stdout"
        }
      ]
    },
    {
      "cell_type": "code",
      "metadata": {
        "id": "xELMWCe8wTKQ",
        "colab_type": "code",
        "colab": {
          "base_uri": "https://localhost:8080/",
          "height": 364
        },
        "outputId": "e317657a-9fd9-450f-c6c1-a8387c131fa7"
      },
      "source": [
        "x = torch.randn([3, 5])\n",
        "y = torch.randn([5, 4])\n",
        "\n",
        "print(x)\n",
        "print(y)\n",
        "\n",
        "z = x @ y\n",
        "\n",
        "print(z)\n",
        "\n",
        "x = torch.randn([3, 3])\n",
        "y = torch.randn([3, 3])\n",
        "z = x + y\n",
        "print(z)\n",
        "\n",
        "print(\"Covert from tensor to numpy\")\n",
        "zNump = z.numpy()\n",
        "print(zNump)\n",
        "\n",
        "print(\"Row 0 to 2, column 0\")\n",
        "print(zNump[0:3,0])"
      ],
      "execution_count": 25,
      "outputs": [
        {
          "output_type": "stream",
          "text": [
            "tensor([[-0.4304, -0.1643,  1.0647,  0.6224,  0.4378],\n",
            "        [ 0.4151,  2.3563,  0.7522,  0.5613, -1.5655],\n",
            "        [ 0.5611, -0.0725, -1.1340, -1.1584, -0.7256]])\n",
            "tensor([[ 0.9487,  0.7186,  0.9243,  0.4274],\n",
            "        [ 0.2468, -0.2030, -0.1295,  1.8800],\n",
            "        [ 1.0230,  2.0493,  0.7550, -1.8731],\n",
            "        [-0.5277,  0.1193,  1.2613, -0.5715],\n",
            "        [ 0.3041,  1.0269, -1.9228,  0.4014]])\n",
            "tensor([[ 0.4450,  2.4298,  0.3704, -2.6670],\n",
            "        [ 0.9723, -0.1792,  4.3647,  2.2491],\n",
            "        [-0.2550, -2.7894, -0.3939,  2.5984]])\n",
            "tensor([[ 0.0894, -0.9542,  0.4983],\n",
            "        [ 0.5686,  1.3331, -2.4392],\n",
            "        [ 0.2206,  0.6598,  1.8495]])\n",
            "Covert from tensor to numpy\n",
            "[[ 0.08939701 -0.95417476  0.4982791 ]\n",
            " [ 0.5685613   1.3330753  -2.439239  ]\n",
            " [ 0.22058564  0.6598427   1.8494606 ]]\n",
            "Row 0 to 2, column 0\n",
            "[0.08939701 0.5685613  0.22058564]\n"
          ],
          "name": "stdout"
        }
      ]
    }
  ]
}