{
  "nbformat": 4,
  "nbformat_minor": 0,
  "metadata": {
    "colab": {
      "name": "pyTorch_learnTensor.ipynb",
      "provenance": [],
      "include_colab_link": true
    },
    "kernelspec": {
      "name": "python3",
      "display_name": "Python 3"
    }
  },
  "cells": [
    {
      "cell_type": "markdown",
      "metadata": {
        "id": "view-in-github",
        "colab_type": "text"
      },
      "source": [
        "<a href=\"https://colab.research.google.com/github/esa-prakasa/PyTorchForBeginner/blob/master/pyTorch_learnTensor.ipynb\" target=\"_parent\"><img src=\"https://colab.research.google.com/assets/colab-badge.svg\" alt=\"Open In Colab\"/></a>"
      ]
    },
    {
      "cell_type": "code",
      "metadata": {
        "id": "FDLOnc1UzY1o",
        "colab_type": "code",
        "colab": {
          "base_uri": "https://localhost:8080/",
          "height": 191
        },
        "outputId": "eaabe6d2-8355-4c2d-a2b8-e67ced6ea4cb"
      },
      "source": [
        "import torch\n",
        "\n",
        "x = torch.tensor([[0,0,1],[1,1,1],[0,0,0]])\n",
        "y = torch.tensor([0.1, 0.2, 0.3],dtype = torch.float64)\n",
        "print(x)\n",
        "print(y)\n",
        "\n",
        "z = torch.zeros(5,1)\n",
        "a = torch.ones(1,5)\n",
        "print(z)\n",
        "print(a)"
      ],
      "execution_count": 11,
      "outputs": [
        {
          "output_type": "stream",
          "text": [
            "tensor([[0, 0, 1],\n",
            "        [1, 1, 1],\n",
            "        [0, 0, 0]])\n",
            "tensor([0.1000, 0.2000, 0.3000], dtype=torch.float64)\n",
            "tensor([[0.],\n",
            "        [0.],\n",
            "        [0.],\n",
            "        [0.],\n",
            "        [0.]])\n",
            "tensor([[1., 1., 1., 1., 1.]])\n"
          ],
          "name": "stdout"
        }
      ]
    },
    {
      "cell_type": "markdown",
      "metadata": {
        "id": "nIzdoRtt4MkY",
        "colab_type": "text"
      },
      "source": [
        "These instructions are used to generate a 3x3 random numbers. By applying max() function to the generated tensor b, we can get the maximum value of 3x3 random numbers. The maximum number is stored as bMax variable. However, the variable type is still as tensor format. To extract its real value, we use item() function. Finally, a single number can be extracted from the tensor format."
      ]
    },
    {
      "cell_type": "code",
      "metadata": {
        "id": "tcljLXzu2TqI",
        "colab_type": "code",
        "colab": {}
      },
      "source": [
        "b = torch.rand(3,3)\n",
        "print(b)\n",
        "\n",
        "bMax = b.max()\n",
        "\n",
        "print(bMax.item())\n"
      ],
      "execution_count": 0,
      "outputs": []
    }
  ]
}